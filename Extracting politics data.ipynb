{
 "cells": [
  {
   "cell_type": "code",
   "execution_count": 24,
   "id": "cabd9a62",
   "metadata": {},
   "outputs": [],
   "source": [
    "import pandas as pd\n",
    "import numpy as np\n",
    "import matplotlib.pyplot as plt"
   ]
  },
  {
   "cell_type": "code",
   "execution_count": 25,
   "id": "d93dcb72",
   "metadata": {},
   "outputs": [],
   "source": [
    "electoral_data = pd.read_csv(\"V-Dem_electoral_democracy_index.csv\")"
   ]
  },
  {
   "cell_type": "code",
   "execution_count": 26,
   "id": "f13f3ac6",
   "metadata": {},
   "outputs": [],
   "source": [
    "indv_lib_data = pd.read_csv(\"V-Dem_indv_liberties_&_equality_before_law.csv\")"
   ]
  },
  {
   "cell_type": "code",
   "execution_count": 27,
   "id": "e54972e0",
   "metadata": {},
   "outputs": [],
   "source": [
    "lib_democracy_data = pd.read_csv(\"V-Dem_liberal_democracy_main_index.csv\")"
   ]
  },
  {
   "cell_type": "code",
   "execution_count": 28,
   "id": "49501262",
   "metadata": {},
   "outputs": [],
   "source": [
    "lib_institutions_data = pd.read_csv(\"V-Dem_liberal_institutions_index.csv\")"
   ]
  },
  {
   "cell_type": "code",
   "execution_count": 29,
   "id": "01ca80ee",
   "metadata": {},
   "outputs": [
    {
     "data": {
      "text/html": [
       "<div>\n",
       "<style scoped>\n",
       "    .dataframe tbody tr th:only-of-type {\n",
       "        vertical-align: middle;\n",
       "    }\n",
       "\n",
       "    .dataframe tbody tr th {\n",
       "        vertical-align: top;\n",
       "    }\n",
       "\n",
       "    .dataframe thead th {\n",
       "        text-align: right;\n",
       "    }\n",
       "</style>\n",
       "<table border=\"1\" class=\"dataframe\">\n",
       "  <thead>\n",
       "    <tr style=\"text-align: right;\">\n",
       "      <th></th>\n",
       "      <th>Entity</th>\n",
       "      <th>Code</th>\n",
       "      <th>Year</th>\n",
       "      <th>electdem_vdem_owid</th>\n",
       "      <th>electdem_vdem_high_owid</th>\n",
       "      <th>electdem_vdem_low_owid</th>\n",
       "    </tr>\n",
       "  </thead>\n",
       "  <tbody>\n",
       "    <tr>\n",
       "      <th>0</th>\n",
       "      <td>Afghanistan</td>\n",
       "      <td>AFG</td>\n",
       "      <td>1789</td>\n",
       "      <td>0.018</td>\n",
       "      <td>0.026</td>\n",
       "      <td>0.012</td>\n",
       "    </tr>\n",
       "    <tr>\n",
       "      <th>1</th>\n",
       "      <td>Afghanistan</td>\n",
       "      <td>AFG</td>\n",
       "      <td>1790</td>\n",
       "      <td>0.018</td>\n",
       "      <td>0.026</td>\n",
       "      <td>0.012</td>\n",
       "    </tr>\n",
       "    <tr>\n",
       "      <th>2</th>\n",
       "      <td>Afghanistan</td>\n",
       "      <td>AFG</td>\n",
       "      <td>1791</td>\n",
       "      <td>0.018</td>\n",
       "      <td>0.026</td>\n",
       "      <td>0.012</td>\n",
       "    </tr>\n",
       "    <tr>\n",
       "      <th>3</th>\n",
       "      <td>Afghanistan</td>\n",
       "      <td>AFG</td>\n",
       "      <td>1792</td>\n",
       "      <td>0.018</td>\n",
       "      <td>0.026</td>\n",
       "      <td>0.012</td>\n",
       "    </tr>\n",
       "    <tr>\n",
       "      <th>4</th>\n",
       "      <td>Afghanistan</td>\n",
       "      <td>AFG</td>\n",
       "      <td>1793</td>\n",
       "      <td>0.018</td>\n",
       "      <td>0.026</td>\n",
       "      <td>0.012</td>\n",
       "    </tr>\n",
       "    <tr>\n",
       "      <th>5</th>\n",
       "      <td>Afghanistan</td>\n",
       "      <td>AFG</td>\n",
       "      <td>1794</td>\n",
       "      <td>0.018</td>\n",
       "      <td>0.026</td>\n",
       "      <td>0.012</td>\n",
       "    </tr>\n",
       "    <tr>\n",
       "      <th>6</th>\n",
       "      <td>Afghanistan</td>\n",
       "      <td>AFG</td>\n",
       "      <td>1795</td>\n",
       "      <td>0.018</td>\n",
       "      <td>0.026</td>\n",
       "      <td>0.012</td>\n",
       "    </tr>\n",
       "    <tr>\n",
       "      <th>7</th>\n",
       "      <td>Afghanistan</td>\n",
       "      <td>AFG</td>\n",
       "      <td>1796</td>\n",
       "      <td>0.018</td>\n",
       "      <td>0.026</td>\n",
       "      <td>0.012</td>\n",
       "    </tr>\n",
       "    <tr>\n",
       "      <th>8</th>\n",
       "      <td>Afghanistan</td>\n",
       "      <td>AFG</td>\n",
       "      <td>1797</td>\n",
       "      <td>0.018</td>\n",
       "      <td>0.026</td>\n",
       "      <td>0.012</td>\n",
       "    </tr>\n",
       "    <tr>\n",
       "      <th>9</th>\n",
       "      <td>Afghanistan</td>\n",
       "      <td>AFG</td>\n",
       "      <td>1798</td>\n",
       "      <td>0.018</td>\n",
       "      <td>0.026</td>\n",
       "      <td>0.012</td>\n",
       "    </tr>\n",
       "  </tbody>\n",
       "</table>\n",
       "</div>"
      ],
      "text/plain": [
       "        Entity Code  Year  electdem_vdem_owid  electdem_vdem_high_owid  \\\n",
       "0  Afghanistan  AFG  1789               0.018                    0.026   \n",
       "1  Afghanistan  AFG  1790               0.018                    0.026   \n",
       "2  Afghanistan  AFG  1791               0.018                    0.026   \n",
       "3  Afghanistan  AFG  1792               0.018                    0.026   \n",
       "4  Afghanistan  AFG  1793               0.018                    0.026   \n",
       "5  Afghanistan  AFG  1794               0.018                    0.026   \n",
       "6  Afghanistan  AFG  1795               0.018                    0.026   \n",
       "7  Afghanistan  AFG  1796               0.018                    0.026   \n",
       "8  Afghanistan  AFG  1797               0.018                    0.026   \n",
       "9  Afghanistan  AFG  1798               0.018                    0.026   \n",
       "\n",
       "   electdem_vdem_low_owid  \n",
       "0                   0.012  \n",
       "1                   0.012  \n",
       "2                   0.012  \n",
       "3                   0.012  \n",
       "4                   0.012  \n",
       "5                   0.012  \n",
       "6                   0.012  \n",
       "7                   0.012  \n",
       "8                   0.012  \n",
       "9                   0.012  "
      ]
     },
     "execution_count": 29,
     "metadata": {},
     "output_type": "execute_result"
    }
   ],
   "source": [
    "electoral_data.head(10)"
   ]
  },
  {
   "cell_type": "code",
   "execution_count": 30,
   "id": "606732e2",
   "metadata": {},
   "outputs": [],
   "source": [
    "electoral_data_70=electoral_data[electoral_data['Year'] == 1970]"
   ]
  },
  {
   "cell_type": "code",
   "execution_count": 31,
   "id": "48269b99",
   "metadata": {},
   "outputs": [],
   "source": [
    "indv_lib_data_70=indv_lib_data[indv_lib_data['Year'] == 1970]\n",
    "lib_democracy_data_70=lib_democracy_data[lib_democracy_data['Year'] == 1970]\n",
    "lib_institutions_data_70=lib_institutions_data[lib_institutions_data['Year'] == 1970]"
   ]
  },
  {
   "cell_type": "code",
   "execution_count": 32,
   "id": "98b22fa7",
   "metadata": {},
   "outputs": [
    {
     "name": "stdout",
     "output_type": "stream",
     "text": [
      "Empty DataFrame\n",
      "Columns: [Entity, Code, Year, electdem_vdem_owid, electdem_vdem_high_owid, electdem_vdem_low_owid]\n",
      "Index: [] Empty DataFrame\n",
      "Columns: [Entity, Code, Year, indiv_libs_vdem_owid, indiv_libs_vdem_high_owid, indiv_libs_vdem_low_owid]\n",
      "Index: [] Empty DataFrame\n",
      "Columns: [Entity, Code, Year, libdem_vdem_owid]\n",
      "Index: [] Empty DataFrame\n",
      "Columns: [Entity, Code, Year, lib_dich_row_owid, lib_dich_high_row_owid, lib_dich_low_row_owid]\n",
      "Index: []\n"
     ]
    }
   ],
   "source": [
    "print(electoral_data_70.head(0),\n",
    "indv_lib_data_70.head(0),\n",
    "lib_democracy_data_70.head(0),\n",
    "lib_institutions_data_70.head(0))"
   ]
  },
  {
   "cell_type": "code",
   "execution_count": 33,
   "id": "6683082a",
   "metadata": {},
   "outputs": [],
   "source": [
    "electoral_data_70=electoral_data_70.drop(columns=['electdem_vdem_high_owid', 'electdem_vdem_low_owid'])\n",
    "indv_lib_data_70=indv_lib_data_70.drop(columns=['indiv_libs_vdem_high_owid', 'indiv_libs_vdem_low_owid'])\n",
    "lib_institutions_data_70=lib_institutions_data_70.drop(columns=['lib_dich_high_row_owid', 'lib_dich_low_row_owid'])"
   ]
  },
  {
   "cell_type": "code",
   "execution_count": 34,
   "id": "adf93e02",
   "metadata": {},
   "outputs": [],
   "source": [
    "electoral_data_70.to_csv(\"electoral_data_70.csv\")  \n",
    "indv_lib_data_70.to_csv(\"indv_lib_data_70.csv\")  \n",
    "lib_institutions_data_70.to_csv(\"lib_institutions_data_70.csv\")  \n",
    "lib_democracy_data_70.to_csv(\"lib_democracy_data_70.csv\")  "
   ]
  },
  {
   "cell_type": "code",
   "execution_count": 35,
   "id": "85ebed8b",
   "metadata": {},
   "outputs": [
    {
     "data": {
      "text/html": [
       "<div>\n",
       "<style scoped>\n",
       "    .dataframe tbody tr th:only-of-type {\n",
       "        vertical-align: middle;\n",
       "    }\n",
       "\n",
       "    .dataframe tbody tr th {\n",
       "        vertical-align: top;\n",
       "    }\n",
       "\n",
       "    .dataframe thead th {\n",
       "        text-align: right;\n",
       "    }\n",
       "</style>\n",
       "<table border=\"1\" class=\"dataframe\">\n",
       "  <thead>\n",
       "    <tr style=\"text-align: right;\">\n",
       "      <th></th>\n",
       "      <th>Entity</th>\n",
       "      <th>Code</th>\n",
       "      <th>Year</th>\n",
       "      <th>electdem_vdem_owid</th>\n",
       "    </tr>\n",
       "  </thead>\n",
       "  <tbody>\n",
       "    <tr>\n",
       "      <th>181</th>\n",
       "      <td>Afghanistan</td>\n",
       "      <td>AFG</td>\n",
       "      <td>1970</td>\n",
       "      <td>0.160000</td>\n",
       "    </tr>\n",
       "    <tr>\n",
       "      <th>414</th>\n",
       "      <td>Africa</td>\n",
       "      <td>NaN</td>\n",
       "      <td>1970</td>\n",
       "      <td>0.175545</td>\n",
       "    </tr>\n",
       "    <tr>\n",
       "      <th>522</th>\n",
       "      <td>Albania</td>\n",
       "      <td>ALB</td>\n",
       "      <td>1970</td>\n",
       "      <td>0.173000</td>\n",
       "    </tr>\n",
       "    <tr>\n",
       "      <th>644</th>\n",
       "      <td>Algeria</td>\n",
       "      <td>DZA</td>\n",
       "      <td>1970</td>\n",
       "      <td>0.084000</td>\n",
       "    </tr>\n",
       "    <tr>\n",
       "      <th>766</th>\n",
       "      <td>Angola</td>\n",
       "      <td>AGO</td>\n",
       "      <td>1970</td>\n",
       "      <td>0.010000</td>\n",
       "    </tr>\n",
       "  </tbody>\n",
       "</table>\n",
       "</div>"
      ],
      "text/plain": [
       "          Entity Code  Year  electdem_vdem_owid\n",
       "181  Afghanistan  AFG  1970            0.160000\n",
       "414       Africa  NaN  1970            0.175545\n",
       "522      Albania  ALB  1970            0.173000\n",
       "644      Algeria  DZA  1970            0.084000\n",
       "766       Angola  AGO  1970            0.010000"
      ]
     },
     "execution_count": 35,
     "metadata": {},
     "output_type": "execute_result"
    }
   ],
   "source": [
    "electoral_data_70.head()"
   ]
  },
  {
   "cell_type": "code",
   "execution_count": 36,
   "id": "f76266f5",
   "metadata": {},
   "outputs": [],
   "source": [
    "electoral_entities = electoral_data_70['Entity'].tolist()\n",
    "indv_lib_entities = indv_lib_data_70['Entity'].tolist()\n",
    "lib_dem_entities = lib_democracy_data_70['Entity'].tolist()\n",
    "lib_inst_entities = lib_institutions_data_70['Entity'].tolist()\n",
    "\n"
   ]
  },
  {
   "cell_type": "markdown",
   "id": "03743026",
   "metadata": {},
   "source": [
    "Next it will be useful to see what entities are included in some datasets and not others. One of the biggest challenges here will be people giving different names to the same entities e.g., countries sometimes change their name."
   ]
  },
  {
   "cell_type": "code",
   "execution_count": 37,
   "id": "5c98c898",
   "metadata": {},
   "outputs": [
    {
     "name": "stdout",
     "output_type": "stream",
     "text": [
      "['Africa', 'Asia', 'Bahrain', 'Europe', 'North America', 'Oceania', 'South America', 'Timor', 'World']\n"
     ]
    }
   ],
   "source": [
    "only_electoral_entities=[i for i in electoral_entities if (i not in indv_lib_entities) or (i not in lib_dem_entities) or (i not in lib_inst_entities)]\n",
    "print(only_electoral_entities)"
   ]
  },
  {
   "cell_type": "code",
   "execution_count": 38,
   "id": "2c6c9b78",
   "metadata": {},
   "outputs": [
    {
     "name": "stdout",
     "output_type": "stream",
     "text": [
      "['Bahrain', 'Timor']\n"
     ]
    }
   ],
   "source": [
    "only_indv_lib_entities=[i for i in indv_lib_entities if (i not in electoral_entities) or (i not in lib_dem_entities) or (i not in lib_inst_entities)]\n",
    "print(only_indv_lib_entities)"
   ]
  },
  {
   "cell_type": "code",
   "execution_count": 39,
   "id": "c6a8f46a",
   "metadata": {},
   "outputs": [
    {
     "name": "stdout",
     "output_type": "stream",
     "text": [
      "['Africa', 'Asia', 'Europe', 'North America', 'Oceania', 'South America', 'World']\n"
     ]
    }
   ],
   "source": [
    "only_lib_dem_entities=[i for i in lib_dem_entities if (i not in indv_lib_entities) or (i not in electoral_entities) or (i not in lib_inst_entities)]\n",
    "print(only_lib_dem_entities)"
   ]
  },
  {
   "cell_type": "code",
   "execution_count": 40,
   "id": "8d3b588d",
   "metadata": {},
   "outputs": [
    {
     "name": "stdout",
     "output_type": "stream",
     "text": [
      "[]\n"
     ]
    }
   ],
   "source": [
    "only_lib_inst_entities=[i for i in lib_inst_entities if (i not in indv_lib_entities) or (i not in electoral_entities) or (i not in lib_dem_entities)]\n",
    "print(only_lib_inst_entities)"
   ]
  },
  {
   "cell_type": "markdown",
   "id": "4846a612",
   "metadata": {},
   "source": [
    "Since we're not interested in anything at the continent level or \"world\" level all those entities may be removed. Issues where other datasets are refering to Bahrain and Timor by different names do not appear to be present."
   ]
  },
  {
   "cell_type": "code",
   "execution_count": 41,
   "id": "a857fbac",
   "metadata": {},
   "outputs": [],
   "source": [
    "electoral_data_70 = electoral_data_70[electoral_data_70['Entity'] != ('Africa' or 'Asia' or 'Europe' or 'North America' or 'Oceania' or 'South America' or 'World' )]"
   ]
  },
  {
   "cell_type": "code",
   "execution_count": 42,
   "id": "083ba6ed",
   "metadata": {},
   "outputs": [],
   "source": [
    "lib_democracy_data_70 = lib_democracy_data_70[lib_democracy_data_70['Entity'] != ('Africa' or 'Asia' or 'Europe' or 'North America' or 'Oceania' or 'South America' or 'World' )]"
   ]
  },
  {
   "cell_type": "markdown",
   "id": "a2600fc2",
   "metadata": {},
   "source": [
    "It is known at this point that the year is 1970 so this redundant info will be removed"
   ]
  },
  {
   "cell_type": "code",
   "execution_count": 43,
   "id": "cdbb11a9",
   "metadata": {},
   "outputs": [],
   "source": [
    "electoral_data_70=electoral_data_70.drop(columns=['Year'])\n",
    "indv_lib_data_70=indv_lib_data_70.drop(columns=['Year'])\n",
    "lib_institutions_data_70=lib_institutions_data_70.drop(columns=['Year'])\n",
    "lib_democracy_data_70=lib_democracy_data_70.drop(columns=['Year'])"
   ]
  },
  {
   "cell_type": "markdown",
   "id": "adec960f",
   "metadata": {},
   "source": [
    "The country code offers far more accuracy than the name of the country so it should be kept in the data. However Palestine does not have a country code meaning it is better to merge on the entity"
   ]
  },
  {
   "cell_type": "code",
   "execution_count": 44,
   "id": "a14f510e",
   "metadata": {},
   "outputs": [
    {
     "data": {
      "text/html": [
       "<div>\n",
       "<style scoped>\n",
       "    .dataframe tbody tr th:only-of-type {\n",
       "        vertical-align: middle;\n",
       "    }\n",
       "\n",
       "    .dataframe tbody tr th {\n",
       "        vertical-align: top;\n",
       "    }\n",
       "\n",
       "    .dataframe thead th {\n",
       "        text-align: right;\n",
       "    }\n",
       "</style>\n",
       "<table border=\"1\" class=\"dataframe\">\n",
       "  <thead>\n",
       "    <tr style=\"text-align: right;\">\n",
       "      <th></th>\n",
       "      <th>Entity</th>\n",
       "      <th>Code_x_x</th>\n",
       "      <th>indiv_libs_vdem_owid</th>\n",
       "      <th>Code_y_x</th>\n",
       "      <th>electdem_vdem_owid</th>\n",
       "      <th>Code_x_y</th>\n",
       "      <th>libdem_vdem_owid</th>\n",
       "      <th>Code_y_y</th>\n",
       "      <th>lib_dich_row_owid</th>\n",
       "    </tr>\n",
       "  </thead>\n",
       "  <tbody>\n",
       "    <tr>\n",
       "      <th>0</th>\n",
       "      <td>Afghanistan</td>\n",
       "      <td>AFG</td>\n",
       "      <td>0.266</td>\n",
       "      <td>AFG</td>\n",
       "      <td>0.160</td>\n",
       "      <td>AFG</td>\n",
       "      <td>0.104</td>\n",
       "      <td>AFG</td>\n",
       "      <td>0.0</td>\n",
       "    </tr>\n",
       "    <tr>\n",
       "      <th>1</th>\n",
       "      <td>Albania</td>\n",
       "      <td>ALB</td>\n",
       "      <td>0.006</td>\n",
       "      <td>ALB</td>\n",
       "      <td>0.173</td>\n",
       "      <td>ALB</td>\n",
       "      <td>0.055</td>\n",
       "      <td>ALB</td>\n",
       "      <td>0.0</td>\n",
       "    </tr>\n",
       "    <tr>\n",
       "      <th>2</th>\n",
       "      <td>Algeria</td>\n",
       "      <td>DZA</td>\n",
       "      <td>0.428</td>\n",
       "      <td>DZA</td>\n",
       "      <td>0.084</td>\n",
       "      <td>DZA</td>\n",
       "      <td>0.065</td>\n",
       "      <td>DZA</td>\n",
       "      <td>0.0</td>\n",
       "    </tr>\n",
       "    <tr>\n",
       "      <th>3</th>\n",
       "      <td>Angola</td>\n",
       "      <td>AGO</td>\n",
       "      <td>0.024</td>\n",
       "      <td>AGO</td>\n",
       "      <td>0.010</td>\n",
       "      <td>AGO</td>\n",
       "      <td>0.035</td>\n",
       "      <td>AGO</td>\n",
       "      <td>0.0</td>\n",
       "    </tr>\n",
       "    <tr>\n",
       "      <th>4</th>\n",
       "      <td>Argentina</td>\n",
       "      <td>ARG</td>\n",
       "      <td>0.354</td>\n",
       "      <td>ARG</td>\n",
       "      <td>0.105</td>\n",
       "      <td>ARG</td>\n",
       "      <td>0.086</td>\n",
       "      <td>ARG</td>\n",
       "      <td>0.0</td>\n",
       "    </tr>\n",
       "  </tbody>\n",
       "</table>\n",
       "</div>"
      ],
      "text/plain": [
       "        Entity Code_x_x  indiv_libs_vdem_owid Code_y_x  electdem_vdem_owid  \\\n",
       "0  Afghanistan      AFG                 0.266      AFG               0.160   \n",
       "1      Albania      ALB                 0.006      ALB               0.173   \n",
       "2      Algeria      DZA                 0.428      DZA               0.084   \n",
       "3       Angola      AGO                 0.024      AGO               0.010   \n",
       "4    Argentina      ARG                 0.354      ARG               0.105   \n",
       "\n",
       "  Code_x_y  libdem_vdem_owid Code_y_y  lib_dich_row_owid  \n",
       "0      AFG             0.104      AFG                0.0  \n",
       "1      ALB             0.055      ALB                0.0  \n",
       "2      DZA             0.065      DZA                0.0  \n",
       "3      AGO             0.035      AGO                0.0  \n",
       "4      ARG             0.086      ARG                0.0  "
      ]
     },
     "execution_count": 44,
     "metadata": {},
     "output_type": "execute_result"
    }
   ],
   "source": [
    "merge_1 = pd.merge(indv_lib_data_70,electoral_data_70, on='Entity')\n",
    "merge_2 = pd.merge(lib_democracy_data_70,lib_institutions_data_70,on='Entity')\n",
    "merge_3 = pd.merge(merge_1,merge_2,on='Entity',how='left')\n",
    "merge_3.head()"
   ]
  },
  {
   "cell_type": "code",
   "execution_count": 45,
   "id": "352348f3",
   "metadata": {},
   "outputs": [
    {
     "data": {
      "text/html": [
       "<div>\n",
       "<style scoped>\n",
       "    .dataframe tbody tr th:only-of-type {\n",
       "        vertical-align: middle;\n",
       "    }\n",
       "\n",
       "    .dataframe tbody tr th {\n",
       "        vertical-align: top;\n",
       "    }\n",
       "\n",
       "    .dataframe thead th {\n",
       "        text-align: right;\n",
       "    }\n",
       "</style>\n",
       "<table border=\"1\" class=\"dataframe\">\n",
       "  <thead>\n",
       "    <tr style=\"text-align: right;\">\n",
       "      <th></th>\n",
       "      <th>Entity</th>\n",
       "      <th>Code_x_x</th>\n",
       "      <th>indiv_libs_vdem_owid</th>\n",
       "      <th>electdem_vdem_owid</th>\n",
       "      <th>libdem_vdem_owid</th>\n",
       "      <th>lib_dich_row_owid</th>\n",
       "    </tr>\n",
       "  </thead>\n",
       "  <tbody>\n",
       "    <tr>\n",
       "      <th>0</th>\n",
       "      <td>Afghanistan</td>\n",
       "      <td>AFG</td>\n",
       "      <td>0.266</td>\n",
       "      <td>0.160</td>\n",
       "      <td>0.104</td>\n",
       "      <td>0.0</td>\n",
       "    </tr>\n",
       "    <tr>\n",
       "      <th>1</th>\n",
       "      <td>Albania</td>\n",
       "      <td>ALB</td>\n",
       "      <td>0.006</td>\n",
       "      <td>0.173</td>\n",
       "      <td>0.055</td>\n",
       "      <td>0.0</td>\n",
       "    </tr>\n",
       "    <tr>\n",
       "      <th>2</th>\n",
       "      <td>Algeria</td>\n",
       "      <td>DZA</td>\n",
       "      <td>0.428</td>\n",
       "      <td>0.084</td>\n",
       "      <td>0.065</td>\n",
       "      <td>0.0</td>\n",
       "    </tr>\n",
       "    <tr>\n",
       "      <th>3</th>\n",
       "      <td>Angola</td>\n",
       "      <td>AGO</td>\n",
       "      <td>0.024</td>\n",
       "      <td>0.010</td>\n",
       "      <td>0.035</td>\n",
       "      <td>0.0</td>\n",
       "    </tr>\n",
       "    <tr>\n",
       "      <th>4</th>\n",
       "      <td>Argentina</td>\n",
       "      <td>ARG</td>\n",
       "      <td>0.354</td>\n",
       "      <td>0.105</td>\n",
       "      <td>0.086</td>\n",
       "      <td>0.0</td>\n",
       "    </tr>\n",
       "  </tbody>\n",
       "</table>\n",
       "</div>"
      ],
      "text/plain": [
       "        Entity Code_x_x  indiv_libs_vdem_owid  electdem_vdem_owid  \\\n",
       "0  Afghanistan      AFG                 0.266               0.160   \n",
       "1      Albania      ALB                 0.006               0.173   \n",
       "2      Algeria      DZA                 0.428               0.084   \n",
       "3       Angola      AGO                 0.024               0.010   \n",
       "4    Argentina      ARG                 0.354               0.105   \n",
       "\n",
       "   libdem_vdem_owid  lib_dich_row_owid  \n",
       "0             0.104                0.0  \n",
       "1             0.055                0.0  \n",
       "2             0.065                0.0  \n",
       "3             0.035                0.0  \n",
       "4             0.086                0.0  "
      ]
     },
     "execution_count": 45,
     "metadata": {},
     "output_type": "execute_result"
    }
   ],
   "source": [
    "merge_3=merge_3.drop(columns=['Code_y_x','Code_x_y', 'Code_y_y'])\n",
    "merge_3.head()"
   ]
  },
  {
   "cell_type": "code",
   "execution_count": 46,
   "id": "6b2d743a",
   "metadata": {},
   "outputs": [],
   "source": [
    "merge_3.to_csv(\"V-Dem_data_1970.csv\")  "
   ]
  },
  {
   "cell_type": "code",
   "execution_count": null,
   "id": "31fcf903",
   "metadata": {},
   "outputs": [],
   "source": []
  }
 ],
 "metadata": {
  "kernelspec": {
   "display_name": "Python 3 (ipykernel)",
   "language": "python",
   "name": "python3"
  },
  "language_info": {
   "codemirror_mode": {
    "name": "ipython",
    "version": 3
   },
   "file_extension": ".py",
   "mimetype": "text/x-python",
   "name": "python",
   "nbconvert_exporter": "python",
   "pygments_lexer": "ipython3",
   "version": "3.9.7"
  }
 },
 "nbformat": 4,
 "nbformat_minor": 5
}
