{
 "cells": [
  {
   "cell_type": "code",
   "execution_count": 1,
   "id": "f2c5ba50",
   "metadata": {},
   "outputs": [],
   "source": [
    "import pandas as pd\n",
    "import numpy as np\n",
    "import matplotlib.pyplot as plt"
   ]
  },
  {
   "cell_type": "code",
   "execution_count": 2,
   "id": "fc89771e",
   "metadata": {},
   "outputs": [],
   "source": [
    "FV_data = pd.read_csv(\"V-Dem_Frasier_data_1970_alliances.csv\")\n",
    "regime_data = pd.read_csv(\"Regime_types_in_1970.csv\")"
   ]
  },
  {
   "cell_type": "code",
   "execution_count": 3,
   "id": "33084183",
   "metadata": {},
   "outputs": [],
   "source": [
    "regime_countries = regime_data['country'].tolist()\n",
    "regime_codes = regime_data['abbreviation'].tolist()\n",
    "FV_entities1 = FV_data['Countries'].tolist()\n",
    "FV_entities2 = FV_data['Entity'].tolist()\n",
    "FV_codes = FV_data['ISO_Code'].tolist()"
   ]
  },
  {
   "cell_type": "code",
   "execution_count": 4,
   "id": "7223c2b0",
   "metadata": {},
   "outputs": [
    {
     "name": "stdout",
     "output_type": "stream",
     "text": [
      "['UNITED STATES OF AMERICA', 'CANADA', 'CUBA', 'HAITI', 'DOMINICAN REP.', 'JAMAICA', 'TRINIDAD&TOBAGO', 'BARBADOS', 'MEXICO', 'GUATEMALA', 'HONDURAS', 'EL SALVADOR', 'NICARAGUA', 'COSTA RICA', 'PANAMA', 'COLOMBIA', 'VENEZUELA', 'GUYANA', 'ECUADOR', 'PERU', 'BRAZIL', 'BOLIVIA', 'PARAGUAY', 'CHILE', 'ARGENTINA', 'URUGUAY', 'UNITED KINGDOM', 'IRELAND', 'NETHERLANDS', 'BELGIUM', 'LUXEMBOURG', 'FRANCE', 'MONACO', 'LIECHTENSTEIN', 'SWITZERLAND', 'SPAIN', 'PORTUGAL', 'GERMANY WEST', 'GERMANY EAST', 'POLAND', 'AUSTRIA', 'HUNGARY', 'CZECHOSLOVAKIA', 'ITALY', 'SAN MARINO', 'MALTA', 'ALBANIA', 'YUGOSLAVIA', 'GREECE', 'CYPRUS', 'BULGARIA', 'ROMANIA', 'USSR', 'ESTONIA', 'LATVIA', 'LITHUANIA', 'FINLAND', 'SWEDEN', 'NORWAY', 'DENMARK', 'ICELAND', 'EQUATORIAL GUINEA', 'GAMBIA', 'MALI', 'SENEGAL', 'BENIN', 'MAURITANIA', 'NIGER', \"COTE D'IVOIRE\", 'GUINEA', 'BURKINA FASO', 'LIBERIA', 'SIERRA LEONE', 'GHANA', 'TOGO', 'CAMEROON', 'NIGERIA', 'GABON', 'CENTRAL AFR.R.', 'CHAD', 'CONGO, REP.', 'CONGO, DEM. REP.', 'UGANDA', 'KENYA', 'TANZANIA', 'BURUNDI', 'RWANDA', 'SOMALIA', 'ETHIOPIA  (INCL. ERIT)', 'ZAMBIA', 'ZIMBABWE', 'MALAWI', 'SOUTH AFRICA', 'LESOTHO', 'BOTSWANA', 'ESWATINI', 'MADAGASCAR', 'MAURITIUS', 'MOROCCO', 'ALGERIA', 'TUNISIA', 'LIBYA', 'SUDAN', 'IRAN', 'TURKEY', 'IRAQ', 'EGYPT', 'SYRIA', 'LEBANON', 'JORDAN', 'ISRAEL', 'SAUDI ARABIA', 'YEMEN ARAB REPUBLIC', \"YEMEN, PEOPLE'S DEM. REP.\", 'KUWAIT', 'OMAN', 'AFGHANISTAN', 'CHINA', 'MONGOLIA', 'TAIWAN', 'KOREA NORTH', 'KOREA SOUTH', 'JAPAN', 'INDIA', 'BHUTAN', 'PAKISTAN  (INCL. BANGLAD', 'MYANMAR', 'SRI LANKA', 'MALDIVES', 'NEPAL', 'THAILAND', 'CAMBODIA', 'LAOS', 'VIETNAM NORTH', 'VIETNAM SOUTH', 'MALAYSIA', 'SINGAPORE', 'PHILIPPINES', 'INDONESIA', 'AUSTRALIA', 'NEW ZEALAND', 'FIJI', 'TONGA', 'NAURU', 'SAMOA']\n",
      "145\n"
     ]
    }
   ],
   "source": [
    "only_regimes=[i for i in regime_countries if i not in FV_entities2]\n",
    "print(only_regimes)\n",
    "print(len(only_regimes))"
   ]
  },
  {
   "cell_type": "markdown",
   "id": "a58a428e",
   "metadata": {},
   "source": [
    "The trouble is, they are all capitalized so that will be fixed with the following code:"
   ]
  },
  {
   "cell_type": "code",
   "execution_count": 5,
   "id": "130b9ecd",
   "metadata": {},
   "outputs": [],
   "source": [
    "regime_countries= list(map(lambda x: x.title(), regime_countries))"
   ]
  },
  {
   "cell_type": "code",
   "execution_count": 6,
   "id": "0f9d3d8a",
   "metadata": {},
   "outputs": [
    {
     "name": "stdout",
     "output_type": "stream",
     "text": [
      "['United States Of America', 'Dominican Rep.', 'Trinidad&Tobago', 'Monaco', 'Liechtenstein', 'Germany West', 'Germany East', 'Czechoslovakia', 'San Marino', 'Yugoslavia', 'Ussr', \"Cote D'Ivoire\", 'Central Afr.R.', 'Congo, Rep.', 'Congo, Dem. Rep.', 'Ethiopia  (Incl. Erit)', 'Yemen Arab Republic', \"Yemen, People'S Dem. Rep.\", 'Korea North', 'Korea South', 'Pakistan  (Incl. Banglad', 'Vietnam North', 'Vietnam South', 'Tonga', 'Nauru', 'Samoa']\n",
      "26\n"
     ]
    }
   ],
   "source": [
    "only_regimes=[i for i in regime_countries if i not in FV_entities2]\n",
    "print(only_regimes)\n",
    "print(len(only_regimes))"
   ]
  },
  {
   "cell_type": "code",
   "execution_count": 7,
   "id": "294437f7",
   "metadata": {},
   "outputs": [
    {
     "name": "stdout",
     "output_type": "stream",
     "text": [
      "['MCO', 'LIE', 'DDR', 'CSK', 'SMR', 'SER', 'ROM', 'SVU', 'SWD', 'ZAR', 'ETF', 'YDR', 'ROK', 'VDR', 'SVR', 'TON', 'NRU', 'WSM']\n",
      "18\n"
     ]
    }
   ],
   "source": [
    "only_regime_codes=[i for i in regime_codes if i not in FV_codes]\n",
    "print(only_regime_codes)\n",
    "print(len(only_regime_codes))"
   ]
  },
  {
   "cell_type": "markdown",
   "id": "e75621bd",
   "metadata": {},
   "source": [
    "The most efficient, and methodologically sound thing to do will be to see where the inconsistencies lie with the country codes. There could be 3 possible reasons for the inconsistencies:\n",
    "1) Different codes are used between the two datasets\n",
    "2) Entities are missing from one dataset or the other\n",
    "3) There is genuine confusion about entities (e.g., data for CZECHOSLOVAKIA, vs. Czechia, and Slovakia, stored as separate \n",
    "entities) "
   ]
  },
  {
   "cell_type": "code",
   "execution_count": 8,
   "id": "c0d8d88f",
   "metadata": {},
   "outputs": [
    {
     "name": "stdout",
     "output_type": "stream",
     "text": [
      "['Monaco', 'Liechtenstein', 'Germany East', 'Czechoslovakia', 'San Marino', 'Yugoslavia', 'Romania', 'Ussr', 'Sweden', 'Congo, Dem. Rep.', 'Ethiopia  (Incl. Erit)', \"Yemen, People'S Dem. Rep.\", 'Korea South', 'Vietnam North', 'Vietnam South', 'Tonga', 'Nauru', 'Samoa']\n"
     ]
    }
   ],
   "source": [
    "inconsistent_countries = []\n",
    "inconsistent_country_code_pairs = {}\n",
    "for i in only_regime_codes:\n",
    "    country=((regime_data[regime_data['abbreviation']==i]['country']).values[0])\n",
    "    inconsistent_countries.append(country)\n",
    "    inconsistent_country_code_pairs[i]=country\n",
    "inconsistent_countries= list(map(lambda x: x.title(), inconsistent_countries))\n",
    "print(inconsistent_countries)"
   ]
  },
  {
   "cell_type": "markdown",
   "id": "bde18ba3",
   "metadata": {},
   "source": [
    "It will be good to find out which of these entities ARE included in in the main Dataframe"
   ]
  },
  {
   "cell_type": "code",
   "execution_count": 9,
   "id": "070f513d",
   "metadata": {},
   "outputs": [
    {
     "name": "stdout",
     "output_type": "stream",
     "text": [
      "['Romania', 'Sweden', 'Congo, Dem. Rep.']\n",
      "3\n"
     ]
    }
   ],
   "source": [
    "included_countries=[i for i in inconsistent_countries if i in FV_entities1 or i in FV_entities2]\n",
    "print(included_countries)\n",
    "print(len(included_countries))"
   ]
  },
  {
   "cell_type": "markdown",
   "id": "073502a5",
   "metadata": {},
   "source": [
    "Those are perfect matches and one may also look for partial matches"
   ]
  },
  {
   "cell_type": "code",
   "execution_count": 10,
   "id": "c56c3205",
   "metadata": {},
   "outputs": [],
   "source": [
    "FV_entities1_filtered=[x for x in FV_entities1 if not isinstance(x, float)]"
   ]
  },
  {
   "cell_type": "code",
   "execution_count": 11,
   "id": "47fc283b",
   "metadata": {},
   "outputs": [],
   "source": [
    "FV_entities2_filtered=[x for x in FV_entities2 if not isinstance(x, float)]"
   ]
  },
  {
   "cell_type": "code",
   "execution_count": 12,
   "id": "51c37fc0",
   "metadata": {},
   "outputs": [
    {
     "name": "stdout",
     "output_type": "stream",
     "text": [
      "{'Monaco': ['Mongolia', 'Montenegro'], 'Liechtenstein': [], 'Germany East': ['Germany'], 'Czechoslovakia': ['Czech Republic'], 'San Marino': [], 'Yugoslavia': [], 'Romania': ['Romania'], 'Ussr': [], 'Sweden': ['Sweden'], 'Congo, Dem. Rep.': ['Congo, Rep.', 'Congo, Dem. Rep.'], 'Ethiopia  (Incl. Erit)': ['Ethiopia'], \"Yemen, People'S Dem. Rep.\": ['Yemen, Rep.'], 'Korea South': ['Korea, Rep.'], 'Vietnam North': ['Vietnam'], 'Vietnam South': ['Vietnam'], 'Tonga': [], 'Nauru': [], 'Samoa': []}\n"
     ]
    }
   ],
   "source": [
    "inconsistencies = {}\n",
    "for i in inconsistent_countries:\n",
    "    inconsistencies[i]=(list(filter(lambda x: i[0:3] in x, FV_entities1_filtered)))\n",
    "print(inconsistencies)    "
   ]
  },
  {
   "cell_type": "code",
   "execution_count": 13,
   "id": "7d8941a9",
   "metadata": {},
   "outputs": [
    {
     "name": "stdout",
     "output_type": "stream",
     "text": [
      "{'Monaco': ['Mongolia'], 'Liechtenstein': [], 'Germany East': ['East Germany', 'Germany'], 'Czechoslovakia': ['Czechia'], 'San Marino': [], 'Yugoslavia': [], 'Romania': ['Romania'], 'Ussr': [], 'Sweden': ['Sweden'], 'Congo, Dem. Rep.': ['Congo', 'Democratic Republic of Congo'], 'Ethiopia  (Incl. Erit)': ['Ethiopia'], \"Yemen, People'S Dem. Rep.\": ['Yemen', \"Yemen People's Republic\"], 'Korea South': ['North Korea', 'South Korea'], 'Vietnam North': ['Republic of Vietnam', 'Vietnam'], 'Vietnam South': ['Republic of Vietnam', 'Vietnam'], 'Tonga': [], 'Nauru': [], 'Samoa': []}\n",
      "{'MCO': 'MONACO', 'LIE': 'LIECHTENSTEIN', 'DDR': 'GERMANY EAST', 'CSK': 'CZECHOSLOVAKIA', 'SMR': 'SAN MARINO', 'SER': 'YUGOSLAVIA', 'ROM': 'ROMANIA', 'SVU': 'USSR', 'SWD': 'SWEDEN', 'ZAR': 'CONGO, DEM. REP.', 'ETF': 'ETHIOPIA  (INCL. ERIT)', 'YDR': \"YEMEN, PEOPLE'S DEM. REP.\", 'ROK': 'KOREA SOUTH', 'VDR': 'VIETNAM NORTH', 'SVR': 'VIETNAM SOUTH', 'TON': 'TONGA', 'NRU': 'NAURU', 'WSM': 'SAMOA'}\n"
     ]
    }
   ],
   "source": [
    "inconsistencies = {}\n",
    "for i in inconsistent_countries:\n",
    "    inconsistencies[i]=(list(filter(lambda x: i[0:3] in x, FV_entities2_filtered)))\n",
    "print(inconsistencies)  \n",
    "print(inconsistent_country_code_pairs)"
   ]
  },
  {
   "cell_type": "markdown",
   "id": "9db7d9e7",
   "metadata": {},
   "source": [
    "With the above output, we can get a clear idea of what entities are just being named differently (e.g., \"Korea South\" vs. \"South Korea\"), Where some entities are genuinely missing (e.g., the regime type data has Monaco, and the main dataframe does not have it) and where there is genuine confusion re: what entities are what (e.g., the main dataframe distinguishes Czechia and Slovakia, and the regime type data merges them, in accordance with the fact that they were once included together in a union: Czechoslovakia)\n",
    "These latter cases will be the toughest to deal with, as they will require research to determine how best to deal with these cases."
   ]
  },
  {
   "cell_type": "markdown",
   "id": "3cd1800c",
   "metadata": {},
   "source": [
    "First I will pair the inconsistent country codes with the appropriate country codes based on the output above."
   ]
  },
  {
   "cell_type": "code",
   "execution_count": 14,
   "id": "fa3d573f",
   "metadata": {},
   "outputs": [
    {
     "data": {
      "text/plain": [
       "'OWID_RVN'"
      ]
     },
     "execution_count": 14,
     "metadata": {},
     "output_type": "execute_result"
    }
   ],
   "source": [
    "((FV_data[FV_data['Entity']=='East Germany']['ISO_Code']).values[0])\n",
    "((FV_data[FV_data['Entity']=='Romania']['ISO_Code']).values[0])\n",
    "((FV_data[FV_data['Entity']=='Sweden']['ISO_Code']).values[0])\n",
    "((FV_data[FV_data['Countries']=='Congo, Dem. Rep.']['ISO_Code']).values[0])\n",
    "((FV_data[FV_data['Entity']==\"Yemen People's Republic\"]['ISO_Code']).values[0])\n",
    "((FV_data[FV_data['Entity']==\"South Korea\"]['ISO_Code']).values[0])\n",
    "#north Vietnam\n",
    "((FV_data[FV_data['Entity']==\"Vietnam\"]['ISO_Code']).values[0])\n",
    "#South Vietnam\n",
    "((FV_data[FV_data['Entity']=='Republic of Vietnam']['ISO_Code']).values[0])\n",
    "\n"
   ]
  },
  {
   "cell_type": "code",
   "execution_count": 15,
   "id": "9f3a3f16",
   "metadata": {},
   "outputs": [],
   "source": [
    "regime_data[\"abbreviation\"]=regime_data[\"abbreviation\"].replace('DDR', ((FV_data[FV_data['Entity']=='East Germany']['ISO_Code']).values[0]))\n",
    "regime_data[\"abbreviation\"]=regime_data[\"abbreviation\"].replace('ROM', ((FV_data[FV_data['Entity']=='Romania']['ISO_Code']).values[0]))\n",
    "regime_data[\"abbreviation\"]=regime_data[\"abbreviation\"].replace('SWD',((FV_data[FV_data['Entity']=='Sweden']['ISO_Code']).values[0]) )\n",
    "regime_data[\"abbreviation\"]=regime_data[\"abbreviation\"].replace('ZAR',((FV_data[FV_data['Countries']=='Congo, Dem. Rep.']['ISO_Code']).values[0]) )\n",
    "regime_data[\"abbreviation\"]=regime_data[\"abbreviation\"].replace('YDR',((FV_data[FV_data['Entity']==\"Yemen People's Republic\"]['ISO_Code']).values[0]) )\n",
    "regime_data[\"abbreviation\"]=regime_data[\"abbreviation\"].replace('ROK',((FV_data[FV_data['Entity']==\"South Korea\"]['ISO_Code']).values[0]))\n",
    "regime_data[\"abbreviation\"]=regime_data[\"abbreviation\"].replace('VDR',((FV_data[FV_data['Entity']==\"Vietnam\"]['ISO_Code']).values[0]) )\n",
    "regime_data[\"abbreviation\"]=regime_data[\"abbreviation\"].replace('SVR',((FV_data[FV_data['Entity']=='Republic of Vietnam']['ISO_Code']).values[0]) )"
   ]
  },
  {
   "cell_type": "markdown",
   "id": "532a9d54",
   "metadata": {},
   "source": [
    "Now after changing the codes to something more consistent with the main data we can explore the remaining inconsistencies that will be trickier to deal with. In summary the Regime data makes note of the fact that many independent countries today were in unions back in 1970. It provides data for the unions, whereas the main data looks at the countries as independent. This is a change in the underlying \"entities\" that is going to be tough to deal with no matter what. A decent strategy is just apply the regime type for the union to all union members."
   ]
  },
  {
   "cell_type": "code",
   "execution_count": 16,
   "id": "c6491f74",
   "metadata": {},
   "outputs": [
    {
     "name": "stdout",
     "output_type": "stream",
     "text": [
      "['MCO', 'LIE', 'CSK', 'SMR', 'SER', 'SVU', 'ETF', 'TON', 'NRU', 'WSM']\n",
      "10\n"
     ]
    }
   ],
   "source": [
    "regime_codes = regime_data['abbreviation'].tolist()\n",
    "only_regime_codes=[i for i in regime_codes if i not in FV_codes]\n",
    "print(only_regime_codes)\n",
    "print(len(only_regime_codes))\n"
   ]
  },
  {
   "cell_type": "markdown",
   "id": "6671db0b",
   "metadata": {},
   "source": [
    "It will be useful to see the other side of the coin; what is included in FV_codes but not regime_codes"
   ]
  },
  {
   "cell_type": "code",
   "execution_count": 17,
   "id": "bec63fd9",
   "metadata": {},
   "outputs": [
    {
     "name": "stdout",
     "output_type": "stream",
     "text": [
      "['AGO', 'ARM', 'AZE', 'BHR', 'BGD', 'BLR', 'BIH', 'CPV', 'COM', 'HRV', 'CZE', 'DJI', 'ERI', 'ETH', 'GEO', 'GNB', 'HKG', 'KAZ', 'KGZ', 'MDA', 'MOZ', 'NAM', 'MKD', 'PSE_? ', 'PNG', 'QAT', 'RUS', 'STP', 'SRB', 'SYC', 'SVK', 'SVN', 'SLB', 'SSD', 'SUR', 'TJK', 'TLS', 'TKM', 'UKR', 'UZB', 'VUT', 'OWID_ZAN', 'ARE', 'BHS', 'BLZ', 'BRN', 'MNE']\n",
      "47\n"
     ]
    }
   ],
   "source": [
    "only_FV_codes=[i for i in FV_codes if i not in regime_codes]\n",
    "print(only_FV_codes)\n",
    "print(len(only_FV_codes))\n"
   ]
  },
  {
   "cell_type": "code",
   "execution_count": 18,
   "id": "fb5838a4",
   "metadata": {},
   "outputs": [
    {
     "name": "stdout",
     "output_type": "stream",
     "text": [
      "['Angola', 'Armenia', 'Azerbaijan', 'Bahrain', 'Bangladesh', 'Belarus', 'Bosnia and Herzegovina', 'Cape Verde', 'Comoros', 'Croatia', 'Czechia', 'Djibouti', 'Eritrea', 'Ethiopia', 'Georgia', 'Guinea-Bissau', 'Hong Kong', 'Kazakhstan', 'Kyrgyzstan', 'Moldova', 'Mozambique', 'Namibia', 'North Macedonia', 'Palestine/West Bank', 'Papua New Guinea', 'Qatar', 'Russia', 'Sao Tome and Principe', 'Serbia', 'Seychelles', 'Slovakia', 'Slovenia', 'Solomon Islands', 'South Sudan', 'Suriname', 'Tajikistan', 'Timor', 'Turkmenistan', 'Ukraine', 'Uzbekistan', 'Vanuatu', 'Zanzibar', nan, nan, nan, nan, nan]\n"
     ]
    }
   ],
   "source": [
    "inconsistent_countries = []\n",
    "for i in only_FV_codes:\n",
    "    country=((FV_data[FV_data['ISO_Code']==i]['Entity']).values[0])\n",
    "    inconsistent_countries.append(country)\n",
    "print(inconsistent_countries)"
   ]
  },
  {
   "cell_type": "markdown",
   "id": "41b03442",
   "metadata": {},
   "source": [
    "The trouble is that some of these countries may genuinely be missing from the \"regime data\" but many of them are simply included under \"USSR\" or take your pick in the regime data. I hate to say it, but the most methodologically sound thing to do would seem to be to apply the USSR Regime classification to all it's member republics. The Czechoslovakia regime classification to both Czechia and Slovakia."
   ]
  },
  {
   "cell_type": "markdown",
   "id": "c90a8192",
   "metadata": {},
   "source": [
    "Bahrain was a protectorate of Britain and an absolute monarchy under the same family simultaneously \n",
    "A major problem we're running into here is countries like Hong Kong that were British Colonies but had their own very unique system.\n",
    "Crucially Bahrain and Hong Kong were both British colonies, and both not listed as their own regimes in the regime data, but they both had very different systems. Hong Kong the ultimate libertarian Republic in many ways and Bahrain an absolute monarchy. So this creates real problems for labelling regimes. I guess one strategy is see what they were labeled post independence But I am honestly inclined to give NA or \"unknown\" to the colonies.\n",
    "Apparently Qatar was an indepedent sovereign state and absolute monarchy although it is not included in the regime data. "
   ]
  },
  {
   "cell_type": "markdown",
   "id": "3d285ae5",
   "metadata": {},
   "source": [
    "I am going to opt to classify the regime as unknown in the case of all overseas colonies for European powers including the British ones, French ones, and the numerous ones possessed by Portugal. The clear problem is two overseas colonies belonging to the same European country could be governed very, very differently (e.g., Hong Kong vs. Bahrain). Given my lack of subject expertise these will be classified as unknown until such a time as a subject matter expert can shed more light on these."
   ]
  },
  {
   "cell_type": "code",
   "execution_count": 19,
   "id": "ec9fecbc",
   "metadata": {},
   "outputs": [
    {
     "name": "stdout",
     "output_type": "stream",
     "text": [
      "['Angola', 'Armenia', 'Azerbaijan', 'Bahrain', 'Bangladesh', 'Belarus', 'Bosnia and Herzegovina', 'Cabo Verde', 'Comoros', 'Croatia', 'Czech Republic', 'Djibouti', nan, 'Ethiopia', 'Georgia', 'Guinea-Bissau', 'Hong Kong SAR, China', 'Kazakhstan', 'Kyrgyz Republic', 'Moldova', 'Mozambique', 'Namibia', 'North Macedonia', nan, 'Papua New Guinea', 'Qatar', 'Russian Federation', nan, 'Serbia', 'Seychelles', 'Slovak Republic', 'Slovenia', nan, nan, 'Suriname', 'Tajikistan', 'Timor-Leste', nan, 'Ukraine', nan, nan, nan, 'United Arab Emirates', 'Bahamas, The', 'Belize', 'Brunei Darussalam', 'Montenegro']\n"
     ]
    }
   ],
   "source": [
    "inconsistent_countries = []\n",
    "for i in only_FV_codes:\n",
    "    country=((FV_data[FV_data['ISO_Code']==i]['Countries']).values[0])\n",
    "    inconsistent_countries.append(country)\n",
    "print(inconsistent_countries)"
   ]
  },
  {
   "cell_type": "code",
   "execution_count": 20,
   "id": "1d40d21c",
   "metadata": {},
   "outputs": [],
   "source": [
    "Portuguese_territory = ['Angola','Cape Verde','Guinea-Bissau', 'Mozambique', 'Sao Tome and Principe','Timor' ]\n",
    "USSR = ['Armenia','Azerbaijan', 'Belarus', 'Georgia', 'Kazakhstan', 'Kyrgyzstan', 'Moldova','Russia','Tajikistan','Turkmenistan','Ukraine', 'Uzbekistan']\n",
    "Czechoslovakia = ['Czechia','Slovakia']\n",
    "included_with_pakistan = ['Bangladesh', ]\n",
    "included_with_Yugoslavia = ['Bosnia and Herzegovina','Croatia', 'North Macedonia','Serbia','Slovenia','Montenegro']\n",
    "French_territory = ['Comoros','Djibouti',]\n",
    "included_with_ethiopia = ['Eritrea','Ethiopia']\n",
    "included_with_South_Africa = ['Namibia', ]\n",
    "governed_by_jordan = ['Palestine/West Bank']\n",
    "governed_by_Australia = ['Papua New Guinea']\n",
    "British_territory = ['Bahrain','Hong Kong','Qatar', 'Seychelles','Solomon Islands','United Arab Emirates','Bahamas, The','Belize','Brunei Darussalam',]\n",
    "included_With_Republic_of_Sudan = ['South Sudan']\n",
    "Dutch_colony = ['Suriname']\n",
    "other = ['Vanuatu']\n",
    "included_with_Tanzania = ['Zanzibar']"
   ]
  },
  {
   "cell_type": "markdown",
   "id": "1633533e",
   "metadata": {},
   "source": [
    "The plan is to add entries to the regime data for every country in the USSR, Czechoslovakia, included_with_pakistan, included_with_Yugoslavia, included_with_ethiopia, included_with_South_Africa, included_With_Republic_of_Sudan, included_with_Tanzania. Whatever regime that overarching entity is classified as, the members will be classified as the same. This is arguably a problematic approach but if critiqued it can be re-done. Conversely I don't have any good way to label the former colonies of the European countries accurately for what kind of regime the constitute. The reason being is that regime types could vary wildly among colonies ruled by the same European country, for that reason they should all be classified as unknown. "
   ]
  },
  {
   "cell_type": "code",
   "execution_count": 21,
   "id": "c139d16e",
   "metadata": {},
   "outputs": [],
   "source": [
    "#adding appropriate rows for USSR\n",
    "for i in USSR:\n",
    "    new_row = {'country': i, 'abbreviation':((FV_data[FV_data['Entity']==i]['ISO_Code']).values[0]), 'regimenarrowcat':4}\n",
    "    regime_data.loc[len(regime_data)] = new_row"
   ]
  },
  {
   "cell_type": "code",
   "execution_count": 22,
   "id": "ee500704",
   "metadata": {},
   "outputs": [],
   "source": [
    "#adding appropriate rows for Czechoslovakia\n",
    "for i in Czechoslovakia:\n",
    "    new_row = {'country': i, 'abbreviation':((FV_data[FV_data['Entity']==i]['ISO_Code']).values[0]), 'regimenarrowcat':4}\n",
    "    regime_data.loc[len(regime_data)] = new_row"
   ]
  },
  {
   "cell_type": "code",
   "execution_count": 23,
   "id": "fb6669b1",
   "metadata": {},
   "outputs": [
    {
     "ename": "IndexError",
     "evalue": "index 0 is out of bounds for axis 0 with size 0",
     "output_type": "error",
     "traceback": [
      "\u001b[1;31m---------------------------------------------------------------------------\u001b[0m",
      "\u001b[1;31mIndexError\u001b[0m                                Traceback (most recent call last)",
      "Input \u001b[1;32mIn [23]\u001b[0m, in \u001b[0;36m<cell line: 2>\u001b[1;34m()\u001b[0m\n\u001b[0;32m      1\u001b[0m \u001b[38;5;66;03m#adding appropriate rows for Yugoslavia\u001b[39;00m\n\u001b[0;32m      2\u001b[0m \u001b[38;5;28;01mfor\u001b[39;00m i \u001b[38;5;129;01min\u001b[39;00m included_with_Yugoslavia:\n\u001b[1;32m----> 3\u001b[0m     new_row \u001b[38;5;241m=\u001b[39m {\u001b[38;5;124m'\u001b[39m\u001b[38;5;124mcountry\u001b[39m\u001b[38;5;124m'\u001b[39m: i, \u001b[38;5;124m'\u001b[39m\u001b[38;5;124mabbreviation\u001b[39m\u001b[38;5;124m'\u001b[39m:(\u001b[43m(\u001b[49m\u001b[43mFV_data\u001b[49m\u001b[43m[\u001b[49m\u001b[43mFV_data\u001b[49m\u001b[43m[\u001b[49m\u001b[38;5;124;43m'\u001b[39;49m\u001b[38;5;124;43mEntity\u001b[39;49m\u001b[38;5;124;43m'\u001b[39;49m\u001b[43m]\u001b[49m\u001b[38;5;241;43m==\u001b[39;49m\u001b[43mi\u001b[49m\u001b[43m]\u001b[49m\u001b[43m[\u001b[49m\u001b[38;5;124;43m'\u001b[39;49m\u001b[38;5;124;43mISO_Code\u001b[39;49m\u001b[38;5;124;43m'\u001b[39;49m\u001b[43m]\u001b[49m\u001b[43m)\u001b[49m\u001b[38;5;241;43m.\u001b[39;49m\u001b[43mvalues\u001b[49m\u001b[43m[\u001b[49m\u001b[38;5;241;43m0\u001b[39;49m\u001b[43m]\u001b[49m), \u001b[38;5;124m'\u001b[39m\u001b[38;5;124mregimenarrowcat\u001b[39m\u001b[38;5;124m'\u001b[39m:\u001b[38;5;241m4\u001b[39m}\n\u001b[0;32m      4\u001b[0m     regime_data\u001b[38;5;241m.\u001b[39mloc[\u001b[38;5;28mlen\u001b[39m(regime_data)] \u001b[38;5;241m=\u001b[39m new_row\n",
      "\u001b[1;31mIndexError\u001b[0m: index 0 is out of bounds for axis 0 with size 0"
     ]
    }
   ],
   "source": [
    "#adding appropriate rows for Yugoslavia\n",
    "for i in included_with_Yugoslavia:\n",
    "    new_row = {'country': i, 'abbreviation':((FV_data[FV_data['Entity']==i]['ISO_Code']).values[0]), 'regimenarrowcat':4}\n",
    "    regime_data.loc[len(regime_data)] = new_row"
   ]
  },
  {
   "cell_type": "code",
   "execution_count": 24,
   "id": "0fe5ef94",
   "metadata": {},
   "outputs": [],
   "source": [
    "new_row = {'country': 'Montenegro', 'abbreviation':((FV_data[FV_data['Countries']=='Montenegro']['ISO_Code']).values[0]), 'regimenarrowcat':4}\n",
    "regime_data.loc[len(regime_data)] = new_row"
   ]
  },
  {
   "cell_type": "code",
   "execution_count": 25,
   "id": "c46ad5b4",
   "metadata": {},
   "outputs": [],
   "source": [
    "new_row = {'country': 'Bangladesh', 'abbreviation':((FV_data[FV_data['Entity']=='Bangladesh']['ISO_Code']).values[0]), 'regimenarrowcat':7}\n",
    "regime_data.loc[len(regime_data)] = new_row\n",
    "new_row = {'country': 'Eritrea', 'abbreviation':((FV_data[FV_data['Entity']=='Eritrea']['ISO_Code']).values[0]), 'regimenarrowcat':8}\n",
    "regime_data.loc[len(regime_data)] = new_row\n",
    "new_row = {'country': 'Namibia', 'abbreviation':((FV_data[FV_data['Entity']=='Namibia']['ISO_Code']).values[0]), 'regimenarrowcat':10}\n",
    "regime_data.loc[len(regime_data)] = new_row\n",
    "new_row = {'country': 'South Sudan', 'abbreviation':((FV_data[FV_data['Entity']=='South Sudan']['ISO_Code']).values[0]), 'regimenarrowcat':7}\n",
    "regime_data.loc[len(regime_data)] = new_row\n",
    "new_row = {'country': 'Zanzibar', 'abbreviation':((FV_data[FV_data['Entity']=='Zanzibar']['ISO_Code']).values[0]), 'regimenarrowcat':4}\n",
    "regime_data.loc[len(regime_data)] = new_row\n"
   ]
  },
  {
   "cell_type": "code",
   "execution_count": 26,
   "id": "271fa32c",
   "metadata": {},
   "outputs": [],
   "source": [
    "regime_data.to_csv(\"Regime_data_entries_added.csv\") "
   ]
  },
  {
   "cell_type": "code",
   "execution_count": 27,
   "id": "4b0caca3",
   "metadata": {},
   "outputs": [
    {
     "name": "stdout",
     "output_type": "stream",
     "text": [
      "['MCO', 'LIE', 'CSK', 'SMR', 'SER', 'SVU', 'ETF', 'TON', 'NRU', 'WSM']\n",
      "10\n"
     ]
    }
   ],
   "source": [
    "regime_codes = regime_data['abbreviation'].tolist()\n",
    "only_regime_codes=[i for i in regime_codes if i not in FV_codes]\n",
    "print(only_regime_codes)\n",
    "print(len(only_regime_codes))"
   ]
  },
  {
   "cell_type": "code",
   "execution_count": 28,
   "id": "5a0829a3",
   "metadata": {},
   "outputs": [],
   "source": [
    "regime_data[\"abbreviation\"]=regime_data[\"abbreviation\"].replace('ETF',((FV_data[FV_data['Entity']=='Ethiopia']['ISO_Code']).values[0]) )"
   ]
  },
  {
   "cell_type": "code",
   "execution_count": 29,
   "id": "6b527368",
   "metadata": {},
   "outputs": [
    {
     "name": "stdout",
     "output_type": "stream",
     "text": [
      "['AGO', 'BHR', 'CPV', 'COM', 'DJI', 'ETH', 'GNB', 'HKG', 'MOZ', 'PSE_? ', 'PNG', 'QAT', 'STP', 'SYC', 'SLB', 'SUR', 'TLS', 'VUT', 'ARE', 'BHS', 'BLZ', 'BRN']\n",
      "22\n"
     ]
    }
   ],
   "source": [
    "only_FV_codes=[i for i in FV_codes if i not in regime_codes]\n",
    "print(only_FV_codes)\n",
    "print(len(only_FV_codes))"
   ]
  },
  {
   "cell_type": "code",
   "execution_count": 30,
   "id": "e70e0ac3",
   "metadata": {},
   "outputs": [
    {
     "name": "stdout",
     "output_type": "stream",
     "text": [
      "['Angola', 'Bahrain', 'Cape Verde', 'Comoros', 'Djibouti', 'Ethiopia', 'Guinea-Bissau', 'Hong Kong', 'Mozambique', 'Palestine/West Bank', 'Papua New Guinea', 'Qatar', 'Sao Tome and Principe', 'Seychelles', 'Solomon Islands', 'Suriname', 'Timor', 'Vanuatu', nan, nan, nan, nan]\n"
     ]
    }
   ],
   "source": [
    "inconsistent_countries = []\n",
    "for i in only_FV_codes:\n",
    "    country=((FV_data[FV_data['ISO_Code']==i]['Entity']).values[0])\n",
    "    inconsistent_countries.append(country)\n",
    "print(inconsistent_countries)"
   ]
  },
  {
   "cell_type": "markdown",
   "id": "5ec9b10e",
   "metadata": {},
   "source": [
    "Seems to be an acceptable state of affairs so we can do the merge."
   ]
  },
  {
   "cell_type": "code",
   "execution_count": 31,
   "id": "547fc4c2",
   "metadata": {},
   "outputs": [],
   "source": [
    "regime_data.rename(columns={\"abbreviation\": 'ISO_Code'}, inplace=True)"
   ]
  },
  {
   "cell_type": "code",
   "execution_count": 32,
   "id": "c51fecc9",
   "metadata": {},
   "outputs": [
    {
     "data": {
      "text/html": [
       "<div>\n",
       "<style scoped>\n",
       "    .dataframe tbody tr th:only-of-type {\n",
       "        vertical-align: middle;\n",
       "    }\n",
       "\n",
       "    .dataframe tbody tr th {\n",
       "        vertical-align: top;\n",
       "    }\n",
       "\n",
       "    .dataframe thead th {\n",
       "        text-align: right;\n",
       "    }\n",
       "</style>\n",
       "<table border=\"1\" class=\"dataframe\">\n",
       "  <thead>\n",
       "    <tr style=\"text-align: right;\">\n",
       "      <th></th>\n",
       "      <th>Unnamed: 0</th>\n",
       "      <th>country</th>\n",
       "      <th>ISO_Code</th>\n",
       "      <th>democracy</th>\n",
       "      <th>monarchy</th>\n",
       "      <th>regimenarrowcat</th>\n",
       "    </tr>\n",
       "  </thead>\n",
       "  <tbody>\n",
       "    <tr>\n",
       "      <th>0</th>\n",
       "      <td>170.0</td>\n",
       "      <td>UNITED STATES OF AMERICA</td>\n",
       "      <td>USA</td>\n",
       "      <td>1.0</td>\n",
       "      <td>0</td>\n",
       "      <td>2</td>\n",
       "    </tr>\n",
       "    <tr>\n",
       "      <th>1</th>\n",
       "      <td>323.0</td>\n",
       "      <td>CANADA</td>\n",
       "      <td>CAN</td>\n",
       "      <td>1.0</td>\n",
       "      <td>1</td>\n",
       "      <td>0</td>\n",
       "    </tr>\n",
       "    <tr>\n",
       "      <th>2</th>\n",
       "      <td>488.0</td>\n",
       "      <td>CUBA</td>\n",
       "      <td>CUB</td>\n",
       "      <td>0.0</td>\n",
       "      <td>#NULL!</td>\n",
       "      <td>4</td>\n",
       "    </tr>\n",
       "    <tr>\n",
       "      <th>3</th>\n",
       "      <td>688.0</td>\n",
       "      <td>HAITI</td>\n",
       "      <td>HTI</td>\n",
       "      <td>0.0</td>\n",
       "      <td>#NULL!</td>\n",
       "      <td>6</td>\n",
       "    </tr>\n",
       "    <tr>\n",
       "      <th>4</th>\n",
       "      <td>864.0</td>\n",
       "      <td>DOMINICAN REP.</td>\n",
       "      <td>DOM</td>\n",
       "      <td>1.0</td>\n",
       "      <td>0</td>\n",
       "      <td>2</td>\n",
       "    </tr>\n",
       "    <tr>\n",
       "      <th>5</th>\n",
       "      <td>922.0</td>\n",
       "      <td>JAMAICA</td>\n",
       "      <td>JAM</td>\n",
       "      <td>1.0</td>\n",
       "      <td>1</td>\n",
       "      <td>0</td>\n",
       "    </tr>\n",
       "    <tr>\n",
       "      <th>6</th>\n",
       "      <td>980.0</td>\n",
       "      <td>TRINIDAD&amp;TOBAGO</td>\n",
       "      <td>TTO</td>\n",
       "      <td>1.0</td>\n",
       "      <td>1</td>\n",
       "      <td>0</td>\n",
       "    </tr>\n",
       "    <tr>\n",
       "      <th>7</th>\n",
       "      <td>1034.0</td>\n",
       "      <td>BARBADOS</td>\n",
       "      <td>BRB</td>\n",
       "      <td>1.0</td>\n",
       "      <td>1</td>\n",
       "      <td>0</td>\n",
       "    </tr>\n",
       "    <tr>\n",
       "      <th>8</th>\n",
       "      <td>1475.0</td>\n",
       "      <td>MEXICO</td>\n",
       "      <td>MEX</td>\n",
       "      <td>0.0</td>\n",
       "      <td>#NULL!</td>\n",
       "      <td>5</td>\n",
       "    </tr>\n",
       "    <tr>\n",
       "      <th>9</th>\n",
       "      <td>1695.0</td>\n",
       "      <td>GUATEMALA</td>\n",
       "      <td>GTM</td>\n",
       "      <td>1.0</td>\n",
       "      <td>0</td>\n",
       "      <td>2</td>\n",
       "    </tr>\n",
       "  </tbody>\n",
       "</table>\n",
       "</div>"
      ],
      "text/plain": [
       "   Unnamed: 0                   country ISO_Code  democracy monarchy  \\\n",
       "0       170.0  UNITED STATES OF AMERICA      USA        1.0        0   \n",
       "1       323.0                    CANADA      CAN        1.0        1   \n",
       "2       488.0                      CUBA      CUB        0.0   #NULL!   \n",
       "3       688.0                     HAITI      HTI        0.0   #NULL!   \n",
       "4       864.0            DOMINICAN REP.      DOM        1.0        0   \n",
       "5       922.0                   JAMAICA      JAM        1.0        1   \n",
       "6       980.0           TRINIDAD&TOBAGO      TTO        1.0        1   \n",
       "7      1034.0                  BARBADOS      BRB        1.0        1   \n",
       "8      1475.0                    MEXICO      MEX        0.0   #NULL!   \n",
       "9      1695.0                 GUATEMALA      GTM        1.0        0   \n",
       "\n",
       "   regimenarrowcat  \n",
       "0                2  \n",
       "1                0  \n",
       "2                4  \n",
       "3                6  \n",
       "4                2  \n",
       "5                0  \n",
       "6                0  \n",
       "7                0  \n",
       "8                5  \n",
       "9                2  "
      ]
     },
     "execution_count": 32,
     "metadata": {},
     "output_type": "execute_result"
    }
   ],
   "source": [
    "regime_data.head(10)"
   ]
  },
  {
   "cell_type": "code",
   "execution_count": 33,
   "id": "3620877e",
   "metadata": {},
   "outputs": [
    {
     "name": "stderr",
     "output_type": "stream",
     "text": [
      "C:\\Users\\musar\\AppData\\Local\\Temp\\ipykernel_30520\\23781171.py:1: FutureWarning: Passing 'suffixes' which cause duplicate columns {'Unnamed: 0_x'} in the result is deprecated and will raise a MergeError in a future version.\n",
      "  merge_try = pd.merge(FV_data,regime_data,on='ISO_Code',how='left')\n"
     ]
    }
   ],
   "source": [
    "merge_try = pd.merge(FV_data,regime_data,on='ISO_Code',how='left')"
   ]
  },
  {
   "cell_type": "code",
   "execution_count": 34,
   "id": "71464239",
   "metadata": {},
   "outputs": [],
   "source": [
    "merge_try.to_csv(\"Frasier_Vdem_regime&alliance.csv\") "
   ]
  },
  {
   "cell_type": "code",
   "execution_count": null,
   "id": "ddaacc99",
   "metadata": {},
   "outputs": [],
   "source": []
  }
 ],
 "metadata": {
  "kernelspec": {
   "display_name": "Python 3 (ipykernel)",
   "language": "python",
   "name": "python3"
  },
  "language_info": {
   "codemirror_mode": {
    "name": "ipython",
    "version": 3
   },
   "file_extension": ".py",
   "mimetype": "text/x-python",
   "name": "python",
   "nbconvert_exporter": "python",
   "pygments_lexer": "ipython3",
   "version": "3.9.7"
  }
 },
 "nbformat": 4,
 "nbformat_minor": 5
}
